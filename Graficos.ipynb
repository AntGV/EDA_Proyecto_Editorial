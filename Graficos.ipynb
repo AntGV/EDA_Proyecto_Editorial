{
 "cells": [
  {
   "cell_type": "markdown",
   "id": "0f100815-0668-4da1-b3bd-32d04b554e45",
   "metadata": {},
   "source": [
    "<p style=\"text-align:center;font-size:32px;\">GRÁFICOS</p>"
   ]
  },
  {
   "cell_type": "code",
   "execution_count": 1,
   "id": "30af86b0-4fe3-4036-a848-42d275e23969",
   "metadata": {},
   "outputs": [],
   "source": [
    "import matplotlib.pyplot as plt\n",
    "import numpy as np\n",
    "import pandas as pd\n",
    "import seaborn as sns\n"
   ]
  },
  {
   "cell_type": "code",
   "execution_count": 2,
   "id": "c7ab370c-1025-426e-9d85-6e02813a1eed",
   "metadata": {},
   "outputs": [
    {
     "name": "stdout",
     "output_type": "stream",
     "text": [
      "<class 'pandas.core.frame.DataFrame'>\n",
      "RangeIndex: 8751 entries, 0 to 8750\n",
      "Data columns (total 16 columns):\n",
      " #   Column                Non-Null Count  Dtype  \n",
      "---  ------                --------------  -----  \n",
      " 0   Título                8751 non-null   object \n",
      " 1   Serie                 8352 non-null   object \n",
      " 2   Autor                 8751 non-null   object \n",
      " 3   Género                8751 non-null   object \n",
      " 4   Año de publicación    8751 non-null   int64  \n",
      " 5   Editor                8751 non-null   object \n",
      " 6   Páginas               8751 non-null   int64  \n",
      " 7   BestSeller            8751 non-null   bool   \n",
      " 8   Premiado              8751 non-null   bool   \n",
      " 9   Mejor Valorado        8751 non-null   bool   \n",
      " 10  Recomendado           8751 non-null   bool   \n",
      " 11  Premios               8751 non-null   object \n",
      " 12  Valoración            8751 non-null   float64\n",
      " 13  Votos                 8751 non-null   object \n",
      " 14  Reseñas               8751 non-null   object \n",
      " 15  Fecha de publicación  8751 non-null   object \n",
      "dtypes: bool(4), float64(1), int64(2), object(9)\n",
      "memory usage: 854.7+ KB\n"
     ]
    }
   ],
   "source": [
    "df_databooks = pd.read_csv(\"./data/DataBooks.csv\")\n",
    "df_databooks.info()\n"
   ]
  },
  {
   "cell_type": "code",
   "execution_count": 3,
   "id": "62c8a7af-48d8-41de-a895-527cb84d1009",
   "metadata": {},
   "outputs": [
    {
     "data": {
      "text/plain": [
       "Serie\n",
       "NPNS                               4492\n",
       "NaN                                 399\n",
       "Hogwarts Library                      4\n",
       "Nicolette Mace: The Raven Siren       4\n",
       "American Empire Project               4\n",
       "                                   ... \n",
       "1Q84 #2                               1\n",
       "1Q84 #1                               1\n",
       "1Q84 #3                               1\n",
       "White Knight Dom Academy #2           1\n",
       "Women's Murder Club #1                1\n",
       "Name: count, Length: 3827, dtype: int64"
      ]
     },
     "execution_count": 3,
     "metadata": {},
     "output_type": "execute_result"
    }
   ],
   "source": [
    "df_databooks.Serie.value_counts(dropna = False)"
   ]
  },
  {
   "cell_type": "code",
   "execution_count": null,
   "id": "fcf8bfad-ff89-472d-b103-6efbcda4c0e7",
   "metadata": {},
   "outputs": [],
   "source": []
  },
  {
   "cell_type": "code",
   "execution_count": null,
   "id": "3caac192-2fc0-4f48-baf5-cc2278095640",
   "metadata": {},
   "outputs": [],
   "source": []
  },
  {
   "cell_type": "raw",
   "id": "47c0a5d1-5239-4bc1-ae5d-feb43f6f7c1f",
   "metadata": {},
   "source": []
  },
  {
   "cell_type": "code",
   "execution_count": null,
   "id": "56979382-8cfc-4776-9e58-c03c46650be9",
   "metadata": {},
   "outputs": [],
   "source": []
  },
  {
   "cell_type": "code",
   "execution_count": null,
   "id": "8564a1de-40f0-4696-98d8-66491dc9e45f",
   "metadata": {},
   "outputs": [],
   "source": []
  },
  {
   "cell_type": "code",
   "execution_count": null,
   "id": "927d4844-0d00-469f-93c3-eae5679cefbb",
   "metadata": {},
   "outputs": [],
   "source": []
  },
  {
   "cell_type": "code",
   "execution_count": null,
   "id": "4d9f0a6f-452a-47b5-8b10-c2adb4bde183",
   "metadata": {},
   "outputs": [],
   "source": []
  }
 ],
 "metadata": {
  "kernelspec": {
   "display_name": "Python 3 (ipykernel)",
   "language": "python",
   "name": "python3"
  },
  "language_info": {
   "codemirror_mode": {
    "name": "ipython",
    "version": 3
   },
   "file_extension": ".py",
   "mimetype": "text/x-python",
   "name": "python",
   "nbconvert_exporter": "python",
   "pygments_lexer": "ipython3",
   "version": "3.13.2"
  }
 },
 "nbformat": 4,
 "nbformat_minor": 5
}
