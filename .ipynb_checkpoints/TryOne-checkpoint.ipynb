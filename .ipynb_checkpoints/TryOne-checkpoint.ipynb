{
 "cells": [
  {
   "cell_type": "code",
   "execution_count": 46,
   "id": "8286cb48-1b4b-439a-9452-eca3a27f736b",
   "metadata": {},
   "outputs": [],
   "source": [
    "import numpy as np\n",
    "import pandas as pd\n",
    "import requests as req\n",
    "\n",
    "from PB_funciones import nuevo_libro"
   ]
  },
  {
   "cell_type": "code",
   "execution_count": 19,
   "id": "d2978b22-732b-485d-9e2c-7cb381743d6c",
   "metadata": {},
   "outputs": [],
   "source": [
    "# ${{secrets.APIKEY_ISBN}} #----------> No funcionan los secretos!!!"
   ]
  },
  {
   "cell_type": "code",
   "execution_count": 18,
   "id": "f379af9b-f094-45bd-9396-9656bfb73f08",
   "metadata": {},
   "outputs": [],
   "source": [
    "# Se crea el diccionario que contendrá los valores de los libros solicitados.\n",
    "dict_books = {}\n"
   ]
  },
  {
   "cell_type": "code",
   "execution_count": 48,
   "id": "e846a7cd-e2c2-4748-a694-8c061905f537",
   "metadata": {},
   "outputs": [
    {
     "ename": "NameError",
     "evalue": "name 'req' is not defined",
     "output_type": "error",
     "traceback": [
      "\u001b[1;31m---------------------------------------------------------------------------\u001b[0m",
      "\u001b[1;31mNameError\u001b[0m                                 Traceback (most recent call last)",
      "Cell \u001b[1;32mIn[48], line 2\u001b[0m\n\u001b[0;32m      1\u001b[0m dict_test1 \u001b[38;5;241m=\u001b[39m {}\n\u001b[1;32m----> 2\u001b[0m \u001b[43mnuevo_libro\u001b[49m\u001b[43m(\u001b[49m\u001b[43mdict_test1\u001b[49m\u001b[43m,\u001b[49m\u001b[38;5;241;43m9780679449577\u001b[39;49m\u001b[43m)\u001b[49m\n\u001b[0;32m      3\u001b[0m dict_test1\n",
      "File \u001b[1;32mW:\\TheBridge\\RepoAGV\\Project_Break_EDA_AGV\\PB_funciones.py:9\u001b[0m, in \u001b[0;36mnuevo_libro\u001b[1;34m(diccionario, codigo_isbn)\u001b[0m\n\u001b[0;32m      7\u001b[0m isbn \u001b[38;5;241m=\u001b[39m codigo_isbn\n\u001b[0;32m      8\u001b[0m h \u001b[38;5;241m=\u001b[39m {\u001b[38;5;124m'\u001b[39m\u001b[38;5;124mAuthorization\u001b[39m\u001b[38;5;124m'\u001b[39m: \u001b[38;5;124m\"\u001b[39m\u001b[38;5;124m61066_f9ba2c2c66284291bfbe3153a53fdb85\u001b[39m\u001b[38;5;124m\"\u001b[39m} \u001b[38;5;66;03m# ...............................Borrar API en entrega final!!!\u001b[39;00m\n\u001b[1;32m----> 9\u001b[0m response \u001b[38;5;241m=\u001b[39m \u001b[43mreq\u001b[49m\u001b[38;5;241m.\u001b[39mget(\u001b[38;5;124mf\u001b[39m\u001b[38;5;124m\"\u001b[39m\u001b[38;5;124mhttps://api2.isbndb.com/book/\u001b[39m\u001b[38;5;132;01m{\u001b[39;00misbn\u001b[38;5;132;01m}\u001b[39;00m\u001b[38;5;124m\"\u001b[39m, headers\u001b[38;5;241m=\u001b[39m h)\n\u001b[0;32m     11\u001b[0m \u001b[38;5;66;03m# Si la conexión se ha validado, se añaden los datos del libro consultado al diccionario. En caso contrario se lanza un mensaje de error.\u001b[39;00m\n\u001b[0;32m     12\u001b[0m \u001b[38;5;28;01mif\u001b[39;00m response\u001b[38;5;241m.\u001b[39mstatus_code \u001b[38;5;241m==\u001b[39m \u001b[38;5;241m200\u001b[39m:\n",
      "\u001b[1;31mNameError\u001b[0m: name 'req' is not defined"
     ]
    }
   ],
   "source": [
    "dict_test1 = {}\n",
    "nuevo_libro(dict_test1,9780679449577)\n",
    "dict_test1"
   ]
  }
 ],
 "metadata": {
  "kernelspec": {
   "display_name": "Python 3 (ipykernel)",
   "language": "python",
   "name": "python3"
  },
  "language_info": {
   "codemirror_mode": {
    "name": "ipython",
    "version": 3
   },
   "file_extension": ".py",
   "mimetype": "text/x-python",
   "name": "python",
   "nbconvert_exporter": "python",
   "pygments_lexer": "ipython3",
   "version": "3.13.2"
  }
 },
 "nbformat": 4,
 "nbformat_minor": 5
}
