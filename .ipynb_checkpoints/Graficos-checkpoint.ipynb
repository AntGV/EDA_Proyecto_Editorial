{
 "cells": [
  {
   "cell_type": "markdown",
   "id": "0f100815-0668-4da1-b3bd-32d04b554e45",
   "metadata": {},
   "source": [
    "<p style=\"text-align:center;font-size:32px;\">GRÁFICOS</p>"
   ]
  },
  {
   "cell_type": "code",
   "execution_count": 1,
   "id": "30af86b0-4fe3-4036-a848-42d275e23969",
   "metadata": {},
   "outputs": [],
   "source": [
    "import matplotlib.pyplot as plt\n",
    "import numpy as np\n",
    "import pandas as pd\n",
    "import seaborn as sns\n"
   ]
  },
  {
   "cell_type": "code",
   "execution_count": 2,
   "id": "c7ab370c-1025-426e-9d85-6e02813a1eed",
   "metadata": {},
   "outputs": [
    {
     "name": "stdout",
     "output_type": "stream",
     "text": [
      "<class 'pandas.core.frame.DataFrame'>\n",
      "RangeIndex: 8751 entries, 0 to 8750\n",
      "Data columns (total 16 columns):\n",
      " #   Column                Non-Null Count  Dtype  \n",
      "---  ------                --------------  -----  \n",
      " 0   Título                8751 non-null   object \n",
      " 1   Serie                 8751 non-null   object \n",
      " 2   Autor                 8751 non-null   object \n",
      " 3   Género                8751 non-null   object \n",
      " 4   Año de publicación    8751 non-null   int64  \n",
      " 5   Editor                8751 non-null   object \n",
      " 6   Páginas               8751 non-null   int64  \n",
      " 7   BestSeller            8751 non-null   bool   \n",
      " 8   Premiado              8751 non-null   bool   \n",
      " 9   Mejor Valorado        8751 non-null   bool   \n",
      " 10  Recomendado           8751 non-null   bool   \n",
      " 11  Premios               8751 non-null   object \n",
      " 12  Valoración            8751 non-null   float64\n",
      " 13  Votos                 8751 non-null   object \n",
      " 14  Reseñas               8751 non-null   object \n",
      " 15  Fecha de publicación  8751 non-null   object \n",
      "dtypes: bool(4), float64(1), int64(2), object(9)\n",
      "memory usage: 854.7+ KB\n"
     ]
    }
   ],
   "source": [
    "df_bsbooks = pd.read_csv(\"./data/BSBooks.csv\")\n",
    "df_grbooks = pd.read_csv(\"./data/GRBooks.csv\")\n",
    "df_recbooks = pd.read_csv(\"./data/RECBooks.csv\")\n",
    "df_21bbooks = pd.read_csv(\"./data/21BBooks.csv\")\n",
    "\n",
    "df_databooks = pd.read_csv(\"./data/DataBooks.csv\")\n",
    "df_databooks.info()\n"
   ]
  },
  {
   "cell_type": "code",
   "execution_count": 3,
   "id": "b0d909fb-646f-47a2-b208-8f76bad5afd6",
   "metadata": {},
   "outputs": [
    {
     "name": "stdout",
     "output_type": "stream",
     "text": [
      "['Nonfiction,History,Politics,War,Cultural,Africa,North American Hi...,American History,Political Science,International Relations,Politics,Political Science,History,World History'\n",
      " 'Sin datos'\n",
      " 'Fiction,Contemporary,Literary Fiction,Historical,Historical Fiction,Audiobook,Novels,Cultural,Turkish,Literature,Womens'\n",
      " ...\n",
      " 'Historical,Historical Fiction,Fiction,Thriller,Spy Thriller,Espionage,Mystery,Cultural,Germany,War,World War II,Historical,Thriller,Mystery Thriller'\n",
      " 'Nonfiction,Science,Animals,Health,Health,Medicine,Environment,Nature,Science,Biology,Medical,Psychology'\n",
      " 'Historical,Historical Fiction,Fiction,Adventure,Historical,Romance,European Literature,Spanish Literature,Novels,Classics,Magical Realism']\n"
     ]
    }
   ],
   "source": [
    "print(df_databooks[\"Género\"].unique())"
   ]
  },
  {
   "cell_type": "code",
   "execution_count": 21,
   "id": "35cce491-1901-484c-9111-e3e81cb09b0e",
   "metadata": {},
   "outputs": [
    {
     "name": "stdout",
     "output_type": "stream",
     "text": [
      "Hay 5820 del género 'Fiction'\n",
      "Hay 1682 del género 'Nonfiction'\n",
      "Hay 2844 del género 'Fantasy'\n",
      "Hay 2138 del género 'Romance'\n",
      "Hay 1750 del género 'Historical'\n",
      "Hay 1586 del género 'Mystery'\n",
      "Hay 1359 del género 'Science Fiction'\n",
      "Hay 1180 del género 'Adventure'\n",
      "Hay 1009 del género 'Thriller'\n",
      "Hay 708 del género 'Crime'\n",
      "Hay 596 del género 'Humor'\n",
      "Hay 155 del género 'Poetry'\n",
      "Hay 106 del género 'Classics'\n"
     ]
    }
   ],
   "source": [
    "print(f\"Hay {df_databooks.loc[df_databooks[\"Género\"].str.contains(\"Fiction\"), \"Género\"].count()} del género 'Fiction'\")\n",
    "print(f\"Hay {df_databooks.loc[df_databooks[\"Género\"].str.contains(\"Nonfiction\"), \"Género\"].count()} del género 'Nonfiction'\")\n",
    "\n",
    "print(f\"Hay {df_databooks.loc[df_databooks[\"Género\"].str.contains(\"Fantasy\"), \"Género\"].count()} del género 'Fantasy'\")\n",
    "print(f\"Hay {df_databooks.loc[df_databooks[\"Género\"].str.contains(\"Romance\"), \"Género\"].count()} del género 'Romance'\")\n",
    "print(f\"Hay {df_databooks.loc[df_databooks[\"Género\"].str.contains(\"Historic\"), \"Género\"].count()} del género 'Historical'\")\n",
    "print(f\"Hay {df_databooks.loc[df_databooks[\"Género\"].str.contains(\"Mystery\"), \"Género\"].count()} del género 'Mystery'\")\n",
    "print(f\"Hay {df_databooks.loc[df_databooks[\"Género\"].str.contains(\"Science Fiction\"), \"Género\"].count()} del género 'Science Fiction'\")\n",
    "print(f\"Hay {df_databooks.loc[df_databooks[\"Género\"].str.contains(\"Adventure\"), \"Género\"].count()} del género 'Adventure'\")\n",
    "print(f\"Hay {df_databooks.loc[df_databooks[\"Género\"].str.contains(\"Thriller\"), \"Género\"].count()} del género 'Thriller'\")\n",
    "print(f\"Hay {df_databooks.loc[df_databooks[\"Género\"].str.contains(\"Crime\"), \"Género\"].count()} del género 'Crime'\")\n",
    "print(f\"Hay {df_databooks.loc[df_databooks[\"Género\"].str.contains(\"Humor\"), \"Género\"].count()} del género 'Humor'\")\n",
    "print(f\"Hay {df_databooks.loc[df_databooks[\"Género\"].str.contains(\"Poetry\"), \"Género\"].count()} del género 'Poetry'\")\n",
    "print(f\"Hay {df_databooks.loc[df_databooks[\"Género\"].str.contains(\"Classics\"), \"Género\"].count()} del género 'Classics'\")\n"
   ]
  },
  {
   "cell_type": "code",
   "execution_count": 9,
   "id": "9bf20ed9-9d2d-40ac-8c9c-0a10b7ff08c9",
   "metadata": {},
   "outputs": [],
   "source": [
    "df_databooks[\"Seriado\"] = False\n",
    "df_databooks.loc[(df_databooks[\"Serie\"] != \"NPNS\"),\"Seriado\"] = True\n"
   ]
  },
  {
   "cell_type": "code",
   "execution_count": 10,
   "id": "90598414-bcb6-4a86-b162-847e3e86e61c",
   "metadata": {},
   "outputs": [
    {
     "data": {
      "image/png": "[encoded data removed]",
      "text/plain": [
       "<Figure size 640x480 with 5 Axes>"
      ]
     },
     "metadata": {},
     "output_type": "display_data"
    }
   ],
   "source": [
    "fig,axs = plt.subplots(nrows=1,ncols=5, sharey = True)\n",
    "\n",
    "sns.countplot(x = \"BestSeller\", data = df_databooks, ax = axs[0], hue = \"BestSeller\", legend = False)\n",
    "sns.countplot(x = \"Premiado\", data = df_databooks, ax = axs[1], hue = \"Premiado\", legend = False)\n",
    "sns.countplot(x = \"Mejor Valorado\", data = df_databooks, ax = axs[2], hue = \"Mejor Valorado\", legend = False)\n",
    "sns.countplot(x = \"Recomendado\", data = df_databooks, ax = axs[3], hue = \"Recomendado\", legend = False)\n",
    "sns.countplot(x = \"Seriado\", data = df_db, ax = axs[4], hue = \"Seriado\", legend = False);\n"
   ]
  },
  {
   "cell_type": "code",
   "execution_count": 81,
   "id": "eccdd3cd-41fd-411d-8fe2-a33975cd9e84",
   "metadata": {},
   "outputs": [
    {
     "data": {
      "image/png": "[encoded data removed]",
      "text/plain": [
       "<Figure size 640x480 with 3 Axes>"
      ]
     },
     "metadata": {},
     "output_type": "display_data"
    }
   ],
   "source": [
    "fig,axs = plt.subplots(1,3, sharey = True)\n",
    "\n",
    "valores = df_databooks[\"Premiado\"].value_counts(normalize = True) * 100\n",
    "sns.barplot(x = valores.index, y = valores.values, hue = valores.index, ax = axs[0], legend = False)\n",
    "axs[0].set_ylabel(\"%\")\n",
    "\n",
    "valores = df_databooks[\"Mejor Valorado\"].value_counts(normalize = True) * 100\n",
    "sns.barplot(x = valores.index, y = valores.values, hue = valores.index, ax = axs[1], legend = False)\n",
    "axs[1].set_ylabel(\"%\")\n",
    "\n",
    "valores = df_databooks[\"Seriado\"].value_counts(normalize = True) * 100\n",
    "sns.barplot(x = valores.index, y = valores.values, hue = valores.index, ax = axs[2], legend = True)\n",
    "axs[2].set_ylabel(\"%\")\n",
    "axs[2].legend();\n"
   ]
  },
  {
   "cell_type": "code",
   "execution_count": 95,
   "id": "3caac192-2fc0-4f48-baf5-cc2278095640",
   "metadata": {
    "scrolled": true
   },
   "outputs": [
    {
     "data": {
      "image/png": "[encoded data removed]",
      "text/plain": [
       "<Figure size 500x300 with 2 Axes>"
      ]
     },
     "execution_count": 95,
     "metadata": {},
     "output_type": "execute_result"
    },
    {
     "data": {
      "image/png": "[encoded data removed]",
      "text/plain": [
       "<Figure size 500x300 with 2 Axes>"
      ]
     },
     "metadata": {},
     "output_type": "display_data"
    }
   ],
   "source": [
    "df_db = df_databooks.loc[df_databooks[\"Año de publicación\"] > 1999]\n",
    "\n",
    "fig,axs = plt.subplots(1,2,figsize= (5,3))\n",
    "sns.histplot(df_db[\"Año de publicación\"],kde=True,color='purple',bins=10, ax = axs[0])\n",
    "\n",
    "fig"
   ]
  },
  {
   "cell_type": "code",
   "execution_count": null,
   "id": "5405a9e9-4139-4877-86bf-48e173470992",
   "metadata": {},
   "outputs": [],
   "source": [
    "data = df_db[\"Género\"].value_counts()\n",
    "data\n",
    "fig,ax = plt.subplots(1,1,figsize = (4,4))\n",
    "ax.pie(data.values,labels=data.index,autopct='%.2f%%', startangle= 90);\n",
    "\n",
    "fig"
   ]
  },
  {
   "cell_type": "code",
   "execution_count": 11,
   "id": "8564a1de-40f0-4696-98d8-66491dc9e45f",
   "metadata": {},
   "outputs": [
    {
     "data": {
      "text/plain": [
       "Autor\n",
       "Lucian Bane                                                                                                       31\n",
       "Lynsay Sands                                                                                                      26\n",
       "Scott McElhaney                                                                                                   21\n",
       "Stephen King                                                                                                      21\n",
       "Richelle Mead                                                                                                     20\n",
       "                                                                                                                  ..\n",
       "Mandy Hubbard                                                                                                      1\n",
       "Felicia Day,Joss Whedon                                                                                            1\n",
       "Brian K. Vaughan,Pia Guerra,José Marzán Jr.,Goran Sudžuka,Pamela Rambo,Clem Robins                                 1\n",
       "Brian K. Vaughan,Pia Guerra,Goran Sudžuka,José Marzán Jr.,Clem Robins                                              1\n",
       "Brian K. Vaughan,Pia Guerra,Goran Parlov,Paul Chadwick,José Marzán Jr.,Pamela Rambo,Lee Loughridge,Clem Robins     1\n",
       "Name: count, Length: 5491, dtype: int64"
      ]
     },
     "execution_count": 11,
     "metadata": {},
     "output_type": "execute_result"
    }
   ],
   "source": [
    "df_databooks.Autor.value_counts()"
   ]
  },
  {
   "cell_type": "code",
   "execution_count": 15,
   "id": "209eeb09-9e4f-43aa-b349-139381246316",
   "metadata": {},
   "outputs": [
    {
     "data": {
      "text/plain": [
       "Género\n",
       "Sin datos                                                                                                                   856\n",
       "Fiction                                                                                                                      38\n",
       "Fantasy                                                                                                                      21\n",
       "Nonfiction                                                                                                                   14\n",
       "Poetry                                                                                                                       13\n",
       "Romance                                                                                                                      11\n",
       "Historical,Historical Fiction                                                                                                 9\n",
       "Mystery,Fiction,Humor,Womens Fiction,Chick Lit,Romance,Mystery,Crime,Humor,Comedy,Thriller,Mystery Thriller,Contemporary      7\n",
       "Thriller                                                                                                                      6\n",
       "Science Fiction                                                                                                               6\n",
       "Name: count, dtype: int64"
      ]
     },
     "execution_count": 15,
     "metadata": {},
     "output_type": "execute_result"
    }
   ],
   "source": [
    "frecuencia = df_databooks[\"Género\"].value_counts()\n",
    "valores_repetidos = frecuencia[frecuencia > 5]\n",
    "valores_repetidos"
   ]
  },
  {
   "cell_type": "code",
   "execution_count": 23,
   "id": "927d4844-0d00-469f-93c3-eae5679cefbb",
   "metadata": {},
   "outputs": [
    {
     "data": {
      "text/plain": [
       "np.int64(2021)"
      ]
     },
     "execution_count": 23,
     "metadata": {},
     "output_type": "execute_result"
    }
   ],
   "source": [
    "df_databooks[\"Año de publicación\"].max()"
   ]
  },
  {
   "cell_type": "code",
   "execution_count": 25,
   "id": "4d9f0a6f-452a-47b5-8b10-c2adb4bde183",
   "metadata": {},
   "outputs": [
    {
     "data": {
      "text/plain": [
       "Editor\n",
       "Sin datos                    262\n",
       "HarperCollins                 94\n",
       "Little Brown and Company      93\n",
       "Vintage                       87\n",
       "St. Martin's Press            85\n",
       "                            ... \n",
       "Shambhala                      6\n",
       "Hogarth Press                  6\n",
       "Harcourt Children's Books      6\n",
       "Eerdmans                       6\n",
       "Simon Pulse/Mercury Ink        6\n",
       "Name: count, Length: 282, dtype: int64"
      ]
     },
     "execution_count": 25,
     "metadata": {},
     "output_type": "execute_result"
    }
   ],
   "source": [
    "frecuencia = df_databooks[\"Editor\"].value_counts()\n",
    "valores_repetidos = frecuencia[frecuencia > 5]\n",
    "valores_repetidos"
   ]
  },
  {
   "cell_type": "code",
   "execution_count": 26,
   "id": "40977586-2966-4d12-8c8d-3d739cb32a6c",
   "metadata": {},
   "outputs": [
    {
     "data": {
      "text/html": [
       "<div>\n",
       "<style scoped>\n",
       "    .dataframe tbody tr th:only-of-type {\n",
       "        vertical-align: middle;\n",
       "    }\n",
       "\n",
       "    .dataframe tbody tr th {\n",
       "        vertical-align: top;\n",
       "    }\n",
       "\n",
       "    .dataframe thead th {\n",
       "        text-align: right;\n",
       "    }\n",
       "</style>\n",
       "<table border=\"1\" class=\"dataframe\">\n",
       "  <thead>\n",
       "    <tr style=\"text-align: right;\">\n",
       "      <th></th>\n",
       "      <th>Título</th>\n",
       "      <th>Autor</th>\n",
       "      <th>Idioma original</th>\n",
       "      <th>Año de publicación</th>\n",
       "      <th>Ventas</th>\n",
       "      <th>Género</th>\n",
       "    </tr>\n",
       "  </thead>\n",
       "  <tbody>\n",
       "    <tr>\n",
       "      <th>0</th>\n",
       "      <td>A TALE OF TWO CITIES</td>\n",
       "      <td>Charles Dickens</td>\n",
       "      <td>English</td>\n",
       "      <td>1859</td>\n",
       "      <td>&gt;200 million</td>\n",
       "      <td>Historical fiction</td>\n",
       "    </tr>\n",
       "    <tr>\n",
       "      <th>1</th>\n",
       "      <td>THE LITTLE PRINCE</td>\n",
       "      <td>Antoine de Saint-Exupéry</td>\n",
       "      <td>French</td>\n",
       "      <td>1943</td>\n",
       "      <td>200 million</td>\n",
       "      <td>Fantasy, children's fiction</td>\n",
       "    </tr>\n",
       "    <tr>\n",
       "      <th>2</th>\n",
       "      <td>THE ALCHEMIST</td>\n",
       "      <td>Paulo Coelho</td>\n",
       "      <td>Portuguese</td>\n",
       "      <td>1988</td>\n",
       "      <td>150 million</td>\n",
       "      <td>Fantasy</td>\n",
       "    </tr>\n",
       "    <tr>\n",
       "      <th>3</th>\n",
       "      <td>HARRY POTTER AND THE PHILOSOPHER'S STONE</td>\n",
       "      <td>J. K. Rowling</td>\n",
       "      <td>English</td>\n",
       "      <td>1997</td>\n",
       "      <td>120 million</td>\n",
       "      <td>Fantasy, children's fiction</td>\n",
       "    </tr>\n",
       "    <tr>\n",
       "      <th>4</th>\n",
       "      <td>AND THEN THERE WERE NONE</td>\n",
       "      <td>Agatha Christie</td>\n",
       "      <td>English</td>\n",
       "      <td>1939</td>\n",
       "      <td>100 million</td>\n",
       "      <td>Mystery</td>\n",
       "    </tr>\n",
       "    <tr>\n",
       "      <th>...</th>\n",
       "      <td>...</td>\n",
       "      <td>...</td>\n",
       "      <td>...</td>\n",
       "      <td>...</td>\n",
       "      <td>...</td>\n",
       "      <td>...</td>\n",
       "    </tr>\n",
       "    <tr>\n",
       "      <th>160</th>\n",
       "      <td>FAHRENHEIT 451</td>\n",
       "      <td>Ray Bradbury</td>\n",
       "      <td>English</td>\n",
       "      <td>1953</td>\n",
       "      <td>10 million</td>\n",
       "      <td>NaN</td>\n",
       "    </tr>\n",
       "    <tr>\n",
       "      <th>161</th>\n",
       "      <td>ANGELA'S ASHES</td>\n",
       "      <td>Frank McCourt</td>\n",
       "      <td>English</td>\n",
       "      <td>1996</td>\n",
       "      <td>10 million</td>\n",
       "      <td>NaN</td>\n",
       "    </tr>\n",
       "    <tr>\n",
       "      <th>162</th>\n",
       "      <td>THE STORY OF MY EXPERIMENTS WITH TRUTH</td>\n",
       "      <td>Mohandas Karamchand Gandhi</td>\n",
       "      <td>Gujarati</td>\n",
       "      <td>1925–1929</td>\n",
       "      <td>10 million</td>\n",
       "      <td>NaN</td>\n",
       "    </tr>\n",
       "    <tr>\n",
       "      <th>163</th>\n",
       "      <td>BRIDGET JONES'S DIARY</td>\n",
       "      <td>Helen Fielding</td>\n",
       "      <td>English</td>\n",
       "      <td>1996</td>\n",
       "      <td>10 million</td>\n",
       "      <td>NaN</td>\n",
       "    </tr>\n",
       "    <tr>\n",
       "      <th>164</th>\n",
       "      <td>IT ENDS WITH US</td>\n",
       "      <td>Colleen Hoover</td>\n",
       "      <td>English</td>\n",
       "      <td>2016</td>\n",
       "      <td>10 million</td>\n",
       "      <td>Romance, Fiction</td>\n",
       "    </tr>\n",
       "  </tbody>\n",
       "</table>\n",
       "<p>165 rows × 6 columns</p>\n",
       "</div>"
      ],
      "text/plain": [
       "                                       Título                       Autor  \\\n",
       "0                        A TALE OF TWO CITIES             Charles Dickens   \n",
       "1                           THE LITTLE PRINCE    Antoine de Saint-Exupéry   \n",
       "2                               THE ALCHEMIST                Paulo Coelho   \n",
       "3    HARRY POTTER AND THE PHILOSOPHER'S STONE               J. K. Rowling   \n",
       "4                    AND THEN THERE WERE NONE             Agatha Christie   \n",
       "..                                        ...                         ...   \n",
       "160                            FAHRENHEIT 451                Ray Bradbury   \n",
       "161                            ANGELA'S ASHES               Frank McCourt   \n",
       "162    THE STORY OF MY EXPERIMENTS WITH TRUTH  Mohandas Karamchand Gandhi   \n",
       "163                     BRIDGET JONES'S DIARY              Helen Fielding   \n",
       "164                           IT ENDS WITH US              Colleen Hoover   \n",
       "\n",
       "    Idioma original Año de publicación        Ventas  \\\n",
       "0           English               1859  >200 million   \n",
       "1            French               1943   200 million   \n",
       "2        Portuguese               1988   150 million   \n",
       "3           English               1997   120 million   \n",
       "4           English               1939   100 million   \n",
       "..              ...                ...           ...   \n",
       "160         English               1953    10 million   \n",
       "161         English               1996    10 million   \n",
       "162        Gujarati          1925–1929    10 million   \n",
       "163         English               1996    10 million   \n",
       "164         English               2016    10 million   \n",
       "\n",
       "                          Género  \n",
       "0             Historical fiction  \n",
       "1    Fantasy, children's fiction  \n",
       "2                        Fantasy  \n",
       "3    Fantasy, children's fiction  \n",
       "4                        Mystery  \n",
       "..                           ...  \n",
       "160                          NaN  \n",
       "161                          NaN  \n",
       "162                          NaN  \n",
       "163                          NaN  \n",
       "164             Romance, Fiction  \n",
       "\n",
       "[165 rows x 6 columns]"
      ]
     },
     "execution_count": 26,
     "metadata": {},
     "output_type": "execute_result"
    }
   ],
   "source": [
    "df_bsbooks"
   ]
  },
  {
   "cell_type": "code",
   "execution_count": 29,
   "id": "36406df3-75ab-497b-a595-fdf43b54ca73",
   "metadata": {},
   "outputs": [
    {
     "data": {
      "text/plain": [
       "Género\n",
       "Novel                            9\n",
       "Children's literature            7\n",
       "Self-help                        6\n",
       "Fantasy, children's fiction      5\n",
       "Children's fiction               3\n",
       "                                ..\n",
       "Historical fiction, war novel    1\n",
       "Science fiction                  1\n",
       "Dystopian fiction                1\n",
       "Horror                           1\n",
       "Romance, Fiction                 1\n",
       "Name: count, Length: 76, dtype: int64"
      ]
     },
     "execution_count": 29,
     "metadata": {},
     "output_type": "execute_result"
    }
   ],
   "source": [
    "frecuencia = df_bsbooks[\"Género\"].value_counts()\n",
    "valores_repetidos = frecuencia[frecuencia > 0]\n",
    "valores_repetidos"
   ]
  },
  {
   "cell_type": "code",
   "execution_count": null,
   "id": "1b32d4b8-22b1-4cba-861e-ab7bc040627c",
   "metadata": {},
   "outputs": [],
   "source": []
  },
  {
   "cell_type": "code",
   "execution_count": null,
   "id": "065d2708-c707-48f0-bdd5-5c018dec1218",
   "metadata": {},
   "outputs": [],
   "source": []
  },
  {
   "cell_type": "code",
   "execution_count": null,
   "id": "3da2a915-f183-4f9b-b504-50dd5960f0b0",
   "metadata": {},
   "outputs": [],
   "source": []
  },
  {
   "cell_type": "code",
   "execution_count": null,
   "id": "4b9c5b55-52b4-4bf3-8b8c-675a5b593e9b",
   "metadata": {},
   "outputs": [],
   "source": []
  },
  {
   "cell_type": "code",
   "execution_count": null,
   "id": "055639f5-0014-40d9-8a19-24f0dc8e8107",
   "metadata": {},
   "outputs": [],
   "source": []
  }
 ],
 "metadata": {
  "kernelspec": {
   "display_name": "Python 3 (ipykernel)",
   "language": "python",
   "name": "python3"
  },
  "language_info": {
   "codemirror_mode": {
    "name": "ipython",
    "version": 3
   },
   "file_extension": ".py",
   "mimetype": "text/x-python",
   "name": "python",
   "nbconvert_exporter": "python",
   "pygments_lexer": "ipython3",
   "version": "3.13.2"
  }
 },
 "nbformat": 4,
 "nbformat_minor": 5
}
