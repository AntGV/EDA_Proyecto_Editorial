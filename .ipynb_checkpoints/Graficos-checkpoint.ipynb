{
 "cells": [
  {
   "cell_type": "markdown",
   "id": "0f100815-0668-4da1-b3bd-32d04b554e45",
   "metadata": {},
   "source": [
    "<p style=\"text-align:center;font-size:32px;\">GRÁFICOS</p>"
   ]
  },
  {
   "cell_type": "code",
   "execution_count": 1,
   "id": "30af86b0-4fe3-4036-a848-42d275e23969",
   "metadata": {},
   "outputs": [],
   "source": [
    "import matplotlib.pyplot as plt\n",
    "import numpy as np\n",
    "import pandas as pd\n",
    "import seaborn as sns\n"
   ]
  },
  {
   "cell_type": "code",
   "execution_count": null,
   "id": "c7ab370c-1025-426e-9d85-6e02813a1eed",
   "metadata": {},
   "outputs": [],
   "source": []
  },
  {
   "cell_type": "code",
   "execution_count": null,
   "id": "8564a1de-40f0-4696-98d8-66491dc9e45f",
   "metadata": {},
   "outputs": [],
   "source": []
  },
  {
   "cell_type": "code",
   "execution_count": null,
   "id": "927d4844-0d00-469f-93c3-eae5679cefbb",
   "metadata": {},
   "outputs": [],
   "source": []
  },
  {
   "cell_type": "code",
   "execution_count": null,
   "id": "4d9f0a6f-452a-47b5-8b10-c2adb4bde183",
   "metadata": {},
   "outputs": [],
   "source": []
  }
 ],
 "metadata": {
  "kernelspec": {
   "display_name": "Python 3 (ipykernel)",
   "language": "python",
   "name": "python3"
  },
  "language_info": {
   "codemirror_mode": {
    "name": "ipython",
    "version": 3
   },
   "file_extension": ".py",
   "mimetype": "text/x-python",
   "name": "python",
   "nbconvert_exporter": "python",
   "pygments_lexer": "ipython3",
   "version": "3.13.2"
  }
 },
 "nbformat": 4,
 "nbformat_minor": 5
}
