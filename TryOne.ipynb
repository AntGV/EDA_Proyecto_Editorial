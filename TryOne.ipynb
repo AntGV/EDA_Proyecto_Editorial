{
 "cells": [
  {
   "cell_type": "code",
   "execution_count": 10,
   "id": "8286cb48-1b4b-439a-9452-eca3a27f736b",
   "metadata": {},
   "outputs": [],
   "source": [
    "import numpy as np\n",
    "import pandas as pd\n",
    "import requests\n",
    "\n",
    "from PB_funciones import nuevo_libro"
   ]
  },
  {
   "cell_type": "code",
   "execution_count": 19,
   "id": "d2978b22-732b-485d-9e2c-7cb381743d6c",
   "metadata": {},
   "outputs": [],
   "source": [
    "# ${{secrets.APIKEY_ISBN}} #----------> No funcionan los secretos!!!"
   ]
  },
  {
   "cell_type": "code",
   "execution_count": 18,
   "id": "f379af9b-f094-45bd-9396-9656bfb73f08",
   "metadata": {},
   "outputs": [],
   "source": [
    "# Se crea el diccionario que contendrá los valores de los libros solicitados.\n",
    "dict_books = {}\n"
   ]
  },
  {
   "cell_type": "code",
   "execution_count": 9,
   "id": "cdcac31f-5579-4904-9f98-fcaf7a4af417",
   "metadata": {},
   "outputs": [
    {
     "name": "stdout",
     "output_type": "stream",
     "text": [
      "<Response [200]>\n"
     ]
    }
   ],
   "source": [
    "# Web scraping\n",
    "\n",
    "\n",
    "# url de la página web a «escrapear»\n",
    "url = 'https://es.wikipedia.org/wiki/Anexo:Libros_m%C3%A1s_vendidos'\n",
    "\n",
    "# pasar \"User-agent\" para simular interacción con la página usando Navegador web\n",
    "headers = {\"User-agent\": 'Mozilla/5.0 (Windows NT 10.0; Win64; x64) AppleWebKit/537.36 (KHTML, like Gecko) Chrome/79.0.3945.130 Safari/537.36'}\n",
    "\n",
    "respuesta = req.get(url, headers=headers)\n",
    "\n",
    "# El código de respuesta <200> indicará que todo salió bien\n",
    "print(respuesta)"
   ]
  }
 ],
 "metadata": {
  "kernelspec": {
   "display_name": "Python 3 (ipykernel)",
   "language": "python",
   "name": "python3"
  },
  "language_info": {
   "codemirror_mode": {
    "name": "ipython",
    "version": 3
   },
   "file_extension": ".py",
   "mimetype": "text/x-python",
   "name": "python",
   "nbconvert_exporter": "python",
   "pygments_lexer": "ipython3",
   "version": "3.13.2"
  }
 },
 "nbformat": 4,
 "nbformat_minor": 5
}
